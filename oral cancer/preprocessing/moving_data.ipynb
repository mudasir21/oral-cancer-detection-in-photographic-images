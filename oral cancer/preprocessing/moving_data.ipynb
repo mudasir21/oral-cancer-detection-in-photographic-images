{
 "cells": [
  {
   "cell_type": "code",
   "execution_count": 13,
   "metadata": {},
   "outputs": [],
   "source": [
    "import os\n",
    "import shutil\n",
    "import matplotlib.pyplot as plt\n",
    "\n",
    "plt.rcParams['figure.figsize'] = (12, 8)"
   ]
  },
  {
   "cell_type": "code",
   "execution_count": 14,
   "metadata": {},
   "outputs": [],
   "source": [
    "DATASETS_PATH = 'c:/Users/Groot/Code/oral_cancer/datasets'\n",
    "MODIFIED_DATA = 'c:/Users/Groot/Code/oral_cancer/modified'\n"
   ]
  },
  {
   "cell_type": "code",
   "execution_count": 15,
   "metadata": {},
   "outputs": [],
   "source": [
    "def get_dataset_size(path):\n",
    "    num_of_images = {}\n",
    "    for folder in os.listdir(path):\n",
    "        folder_path = os.path.join(path, folder)\n",
    "\n",
    "        num_images_in_folder = len(os.listdir(folder_path))\n",
    "\n",
    "        num_of_images[folder] = num_images_in_folder\n",
    "\n",
    "    return num_of_images"
   ]
  },
  {
   "cell_type": "code",
   "execution_count": 16,
   "metadata": {},
   "outputs": [],
   "source": [
    "def copy_images_with_label(source_root_folder, destination_root_folder):\n",
    "    if not os.path.exists(source_root_folder):\n",
    "        print(f\"Source root folder '{source_root_folder}' does not exist.\")\n",
    "        return\n",
    "\n",
    "    if not os.path.exists(destination_root_folder):\n",
    "        os.makedirs(destination_root_folder)\n",
    "\n",
    "    parent_folder = os.path.basename(source_root_folder)\n",
    "    \n",
    "    for root, dirs, files in os.walk(source_root_folder):\n",
    "    \n",
    "        if root != source_root_folder:\n",
    "            folder = os.path.basename(root)\n",
    "            destination_parent_folder = os.path.join(destination_root_folder, folder)\n",
    "            if not os.path.exists(destination_parent_folder):\n",
    "                os.makedirs(destination_parent_folder)\n",
    "\n",
    "            for i, file in enumerate(files, start=1):\n",
    "                source_path = os.path.join(root, file)\n",
    "                new_filename = f\"{parent_folder}_{i}.jpg\" \n",
    "                destination_path = os.path.join(destination_parent_folder, new_filename)\n",
    "                try:\n",
    "                    shutil.copy(source_path, destination_path)\n",
    "                except Exception as e:\n",
    "                    print(f\"Error: {e}\")"
   ]
  },
  {
   "cell_type": "code",
   "execution_count": 17,
   "metadata": {},
   "outputs": [],
   "source": [
    "source_root_folder = DATASETS_PATH +'/tongue_lip'\n",
    "destination_root_folder = DATASETS_PATH +'/complete'\n",
    "copy_images_with_label(source_root_folder, destination_root_folder)"
   ]
  },
  {
   "cell_type": "code",
   "execution_count": 18,
   "metadata": {},
   "outputs": [],
   "source": [
    "source_root_folder_2 = DATASETS_PATH+'/oral_cancer'\n",
    "destination_root_folder = DATASETS_PATH +'/complete'\n",
    "copy_images_with_label(source_root_folder_2, destination_root_folder)"
   ]
  },
  {
   "cell_type": "code",
   "execution_count": 19,
   "metadata": {},
   "outputs": [],
   "source": [
    "source_root_folder_3 = DATASETS_PATH +'/mendley'\n",
    "destination_root_folder = DATASETS_PATH +'/complete'\n",
    "copy_images_with_label(source_root_folder_3, destination_root_folder)"
   ]
  },
  {
   "cell_type": "code",
   "execution_count": 20,
   "metadata": {},
   "outputs": [
    {
     "name": "stdout",
     "output_type": "stream",
     "text": [
      "Tongue and Lip Dataset Size: {'cancer': 87, 'non_cancer': 44}\n",
      "Oral Cancer Dataset Size   : {'cancer': 500, 'non_cancer': 250}\n",
      "Mendley Dataset Size       : {'cancer': 158, 'non_cancer': 165}\n",
      "Complete Dataset Size      : {'cancer': 745, 'non_cancer': 459}\n"
     ]
    }
   ],
   "source": [
    "print('Tongue and Lip Dataset Size:', get_dataset_size(DATASETS_PATH +'/tongue_lip'))\n",
    "print('Oral Cancer Dataset Size   :', get_dataset_size(DATASETS_PATH +'/oral_cancer'))\n",
    "print('Mendley Dataset Size       :', get_dataset_size(DATASETS_PATH +'/mendley'))\n",
    "print('Complete Dataset Size      :', get_dataset_size(DATASETS_PATH +'/complete'))"
   ]
  }
 ],
 "metadata": {
  "kernelspec": {
   "display_name": "tensor_env",
   "language": "python",
   "name": "python3"
  },
  "language_info": {
   "codemirror_mode": {
    "name": "ipython",
    "version": 3
   },
   "file_extension": ".py",
   "mimetype": "text/x-python",
   "name": "python",
   "nbconvert_exporter": "python",
   "pygments_lexer": "ipython3",
   "version": "3.10.11"
  }
 },
 "nbformat": 4,
 "nbformat_minor": 2
}
