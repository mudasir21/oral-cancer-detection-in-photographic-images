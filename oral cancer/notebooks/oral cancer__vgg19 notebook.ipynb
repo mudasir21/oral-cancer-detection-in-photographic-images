{
 "cells": [
  {
   "cell_type": "markdown",
   "metadata": {},
   "source": [
    "Oral Cancer - VGG19"
   ]
  },
  {
   "cell_type": "code",
   "execution_count": 1,
   "metadata": {},
   "outputs": [],
   "source": [
    "#                                                  virtual env : py310\n",
    "\n",
    "import numpy as np\n",
    "import os\n",
    "import matplotlib.pyplot as plt\n",
    "from sklearn.metrics import confusion_matrix\n",
    "from tensorflow.keras.models import Sequential\n",
    "from tensorflow.keras.applications import VGG16\n",
    "from tensorflow.keras.layers import Flatten, Dense, Dropout\n",
    "from tensorflow.keras.optimizers import Adam\n",
    "from tensorflow.keras.preprocessing.image import ImageDataGenerator\n",
    "from tensorflow.keras.callbacks import EarlyStopping, ModelCheckpoint"
   ]
  },
  {
   "cell_type": "code",
   "execution_count": 2,
   "metadata": {},
   "outputs": [
    {
     "data": {
      "text/plain": [
       "['combination_of_two_datasets',\n",
       " 'kag_dataset1_new_dir',\n",
       " 'kag_dataset2_new_dir',\n",
       " 'mendley_new',\n",
       " 'processed_combination',\n",
       " 'super_resolution_images']"
      ]
     },
     "execution_count": 2,
     "metadata": {},
     "output_type": "execute_result"
    }
   ],
   "source": [
    "#processed combination path\n",
    "PATH_IMAGES = 'D:\\Development\\machine_learning\\PROJECTS\\oral_cancer_project\\datasets\\images\\preprocessing_images\\processed_data'\n",
    "os.listdir(PATH_IMAGES)"
   ]
  },
  {
   "cell_type": "code",
   "execution_count": 3,
   "metadata": {},
   "outputs": [
    {
     "data": {
      "text/plain": [
       "\"\\nimport splitfolders\\n\\ninput_folder = PATH_IMAGES  + '/super_resolution_images'  \\n# os.listdir(input_folder)     \\n\\nsplitfolders.ratio(input_folder, output='./oc_datasets/super_resolution_images_split/train_test_split', \\n                   seed=42, ratio=(.7,.2,.1),\\n                   group_prefix=None)\\n\\n\\n# i made the train test and val datasets from this on disk so no need to do it again next time on this project\\n\\n\""
      ]
     },
     "execution_count": 3,
     "metadata": {},
     "output_type": "execute_result"
    }
   ],
   "source": [
    "# Directories\n",
    "'''\n",
    "import splitfolders\n",
    "\n",
    "input_folder = PATH_IMAGES  + '/super_resolution_images'  \n",
    "# os.listdir(input_folder)     \n",
    "\n",
    "splitfolders.ratio(input_folder, output='./oc_datasets/super_resolution_images_split/train_test_split', \n",
    "                   seed=42, ratio=(.7,.2,.1),\n",
    "                   group_prefix=None)\n",
    "\n",
    "\n",
    "# i made the train test and val datasets from this on disk so no need to do it again next time on this project\n",
    "\n",
    "'''"
   ]
  },
  {
   "cell_type": "code",
   "execution_count": 4,
   "metadata": {},
   "outputs": [
    {
     "name": "stdout",
     "output_type": "stream",
     "text": [
      "Found 545 images belonging to 2 classes.\n"
     ]
    },
    {
     "name": "stdout",
     "output_type": "stream",
     "text": [
      "Found 155 images belonging to 2 classes.\n",
      "Found 79 images belonging to 2 classes.\n"
     ]
    }
   ],
   "source": [
    "#Load and preprocessing data\n",
    "\n",
    "train_dir = './oc_datasets/super_resolution_images_split/train_test_split/train'\n",
    "valid_dir = './oc_datasets/super_resolution_images_split/train_test_split/val'\n",
    "test_dir = './oc_datasets/super_resolution_images_split/train_test_split/test'\n",
    "\n",
    "# print(os.listdir(train_dir))\n",
    "# print(os.listdir(test_dir))\n",
    "# print(os.listdir(valid_dir))\n",
    "img_width , img_height = 224, 224\n",
    "batch_size = 32\n",
    "\n",
    "#creating datagenerators\n",
    "train_datagen = ImageDataGenerator(\n",
    "    rescale = 1./255,\n",
    "    shear_range = 0.2,\n",
    "    zoom_range = 0.2,\n",
    "    horizontal_flip = True\n",
    ")\n",
    "\n",
    "valid_datagen = ImageDataGenerator(rescale=1./255)\n",
    "test_datagen = ImageDataGenerator(rescale=1./255)\n",
    "\n",
    "train_generator = train_datagen.flow_from_directory(\n",
    "    train_dir,\n",
    "    target_size = (img_width, img_height),\n",
    "    batch_size = batch_size,\n",
    "    class_mode = 'binary'\n",
    ")\n",
    "\n",
    "valid_generator = valid_datagen.flow_from_directory(\n",
    "    valid_dir,\n",
    "    target_size = (img_width, img_height),\n",
    "    batch_size = batch_size,\n",
    "    class_mode = 'binary'\n",
    ")\n",
    "\n",
    "test_generator = valid_datagen.flow_from_directory(\n",
    "    test_dir,\n",
    "    target_size = (img_width, img_height),\n",
    "    batch_size = batch_size,\n",
    "    class_mode = 'binary'\n",
    ")\n",
    "\n",
    "\n"
   ]
  },
  {
   "cell_type": "code",
   "execution_count": 5,
   "metadata": {},
   "outputs": [],
   "source": [
    "#loading VGG16\n",
    "base_model = VGG16(weights='imagenet', include_top=False, input_shape=(img_width, img_height, 3))\n",
    "\n",
    "for layer in base_model.layers:\n",
    "    layer.trainable = False\n"
   ]
  },
  {
   "cell_type": "code",
   "execution_count": null,
   "metadata": {},
   "outputs": [],
   "source": []
  },
  {
   "cell_type": "code",
   "execution_count": 27,
   "metadata": {},
   "outputs": [
    {
     "name": "stdout",
     "output_type": "stream",
     "text": [
      "Model: \"sequential_2\"\n",
      "_________________________________________________________________\n",
      " Layer (type)                Output Shape              Param #   \n",
      "=================================================================\n",
      " resnet50 (Functional)       (None, 7, 7, 2048)        23587712  \n",
      "                                                                 \n",
      " flatten_2 (Flatten)         (None, 100352)            0         \n",
      "                                                                 \n",
      " dense_7 (Dense)             (None, 256)               25690368  \n",
      "                                                                 \n",
      " dropout_2 (Dropout)         (None, 256)               0         \n",
      "                                                                 \n",
      " dense_8 (Dense)             (None, 1)                 257       \n",
      "                                                                 \n",
      "=================================================================\n",
      "Total params: 49,278,337\n",
      "Trainable params: 25,690,625\n",
      "Non-trainable params: 23,587,712\n",
      "_________________________________________________________________\n"
     ]
    }
   ],
   "source": [
    "#creating model on top of vgg16\n",
    "model = Sequential([\n",
    "    base_model,\n",
    "    Flatten(),\n",
    "    Dense(256, activation='relu'),\n",
    "    Dropout(0.5),\n",
    "    Dense(1, activation='sigmoid'),\n",
    "])\n",
    "\n",
    "model.compile(optimizer = Adam(),\n",
    "              loss = 'binary_crossentropy',\n",
    "              metrics = ['accuracy'])\n",
    "    \n",
    "model.summary()"
   ]
  },
  {
   "cell_type": "code",
   "execution_count": 28,
   "metadata": {},
   "outputs": [
    {
     "name": "stdout",
     "output_type": "stream",
     "text": [
      "Epoch 1/8\n",
      "18/18 [==============================] - 12s 584ms/step - loss: 4.5112 - accuracy: 0.4844 - val_loss: 0.6829 - val_accuracy: 0.6065\n",
      "Epoch 2/8\n",
      "18/18 [==============================] - 10s 536ms/step - loss: 0.7706 - accuracy: 0.4752 - val_loss: 0.6930 - val_accuracy: 0.5161\n",
      "Epoch 3/8\n",
      "18/18 [==============================] - 10s 540ms/step - loss: 0.6933 - accuracy: 0.5138 - val_loss: 0.6930 - val_accuracy: 0.5161\n",
      "Epoch 4/8\n",
      "18/18 [==============================] - 10s 542ms/step - loss: 0.6981 - accuracy: 0.5138 - val_loss: 0.6931 - val_accuracy: 0.5161\n",
      "Epoch 5/8\n",
      "18/18 [==============================] - 10s 533ms/step - loss: 0.6932 - accuracy: 0.5138 - val_loss: 0.6932 - val_accuracy: 0.5097\n",
      "Epoch 6/8\n",
      "18/18 [==============================] - 10s 566ms/step - loss: 0.6931 - accuracy: 0.5138 - val_loss: 0.6931 - val_accuracy: 0.5097\n",
      "Epoch 7/8\n",
      "18/18 [==============================] - 10s 544ms/step - loss: 0.6970 - accuracy: 0.5266 - val_loss: 0.6931 - val_accuracy: 0.5161\n",
      "Epoch 8/8\n",
      "18/18 [==============================] - 10s 521ms/step - loss: 0.6931 - accuracy: 0.5138 - val_loss: 0.6930 - val_accuracy: 0.5161\n"
     ]
    }
   ],
   "source": [
    "#defining training and validation steps\n",
    "train_steps_per_epoch = train_generator.n\n",
    "# print(train_steps_per_epoch)\n",
    "valid_steps_per_epoch = valid_generator.n\n",
    "\n",
    "#training model\n",
    "history = model.fit(\n",
    "    train_generator,\n",
    "    # steps_per_epoch = train_steps_per_epoch,\n",
    "    epochs = 8,\n",
    "    validation_data = valid_generator,\n",
    "    # validation_steps = valid_steps_per_epoch\n",
    ")"
   ]
  },
  {
   "cell_type": "code",
   "execution_count": 29,
   "metadata": {},
   "outputs": [
    {
     "name": "stdout",
     "output_type": "stream",
     "text": [
      "3/3 [==============================] - 1s 299ms/step\n",
      "Confusion Matrix:\n",
      "[[40  0]\n",
      " [39  0]]\n"
     ]
    }
   ],
   "source": [
    "from sklearn.metrics import confusion_matrix\n",
    "import numpy as np\n",
    "\n",
    "# Predict classes for the test dataset\n",
    "predictions = model.predict(test_generator)\n",
    "predicted_classes = np.where(predictions > 0.5, 1, 0)  # Assuming binary classification with threshold 0.5\n",
    "\n",
    "# Get true classes\n",
    "true_classes = test_generator.classes\n",
    "\n",
    "# Create confusion matrix\n",
    "conf_matrix = confusion_matrix(true_classes, predicted_classes)\n",
    "\n",
    "# Print confusion matrix\n",
    "print(\"Confusion Matrix:\")\n",
    "print(conf_matrix)\n",
    "\n"
   ]
  },
  {
   "cell_type": "code",
   "execution_count": 30,
   "metadata": {},
   "outputs": [
    {
     "data": {
      "text/plain": [
       "Text(0, 0.5, 'Loss')"
      ]
     },
     "execution_count": 30,
     "metadata": {},
     "output_type": "execute_result"
    },
    {
     "data": {
      "image/png": "[encoded data removed]",
      "text/plain": [
       "<Figure size 640x480 with 1 Axes>"
      ]
     },
     "metadata": {},
     "output_type": "display_data"
    }
   ],
   "source": [
    "#ploting training and validation loss\n",
    "plt.plot(history.history['loss'], label='Training Loss')\n",
    "plt.plot(history.history['val_loss'], label=['Validation Loss'])\n",
    "plt.xlabel('Epoch')\n",
    "plt.ylabel('Loss')\n"
   ]
  },
  {
   "cell_type": "code",
   "execution_count": 11,
   "metadata": {},
   "outputs": [],
   "source": [
    "\n",
    "\n",
    "\n",
    "\n",
    "\n",
    "\n",
    "# # testing on my images ( user input images )\n",
    "\n",
    "# user_test_dir = './oc-dataset/kag1/user_test_images'\n",
    "\n",
    "# user_test_generator = test_datagen.flow_from_directory(\n",
    "#     user_test_dir,\n",
    "#     target_size = (img_width, img_height),\n",
    "#     batch_size = batch_size,\n",
    "#     class_mode = 'binary'\n",
    "# )\n",
    "\n",
    "\n",
    "\n",
    "\n",
    "\n",
    "\n",
    "\n",
    "\n",
    "\n"
   ]
  },
  {
   "cell_type": "code",
   "execution_count": 12,
   "metadata": {},
   "outputs": [],
   "source": [
    "# from sklearn.metrics import confusion_matrix, ConfusionMatrixDisplay\n",
    "\n",
    "# predictions = model.predict(user_test_generator)\n",
    "# y_true = test_generator.classes\n",
    "# y_pred = np.round(predictions).reshape(-1)\n",
    "\n",
    "# confusion_matrix =confusion_matrix(y_true, y_pred)\n",
    "\n",
    "# disp = ConfusionMatrixDisplay(confusion_matrix=confusion_matrix, display_labels=user_test_generator.class_indices.keys())\n",
    "# disp.plot()\n",
    "# plt.show()"
   ]
  },
  {
   "cell_type": "markdown",
   "metadata": {},
   "source": [
    "RESNET Model"
   ]
  },
  {
   "cell_type": "code",
   "execution_count": 13,
   "metadata": {},
   "outputs": [],
   "source": [
    "import tensorflow as tf\n",
    "from tensorflow.keras.preprocessing.image import load_img, img_to_array\n",
    "from sklearn.model_selection import train_test_split\n",
    "from tensorflow.keras.callbacks import EarlyStopping, ReduceLROnPlateau, ModelCheckpoint\n",
    "from tensorflow.keras.applications import ResNet50\n",
    "from tensorflow.keras import layers, Model"
   ]
  },
  {
   "cell_type": "code",
   "execution_count": 14,
   "metadata": {},
   "outputs": [],
   "source": [
    "PATH_super_resolution_images = 'D:\\Development\\machine_learning\\PROJECTS\\oral_cancer_project\\datasets\\images\\preprocessing_images\\processed_data\\super_resolution_images'\n",
    "# os.listdir(PATH_super_resolution_images)"
   ]
  },
  {
   "cell_type": "code",
   "execution_count": 15,
   "metadata": {},
   "outputs": [],
   "source": [
    "#load Data\n",
    "def load_data(folder_path):\n",
    "    images = []\n",
    "    labels = []\n",
    "    for label, category in enumerate(['cancer', 'non_cancer']):\n",
    "        category_folder = os.path.join(folder_path, category)\n",
    "        for file_name in os.listdir(category_folder):\n",
    "            image_path = os.path.join(category_folder, file_name)\n",
    "            image = load_img(image_path, target_size=(224, 224))  # Adjust target size as needed\n",
    "            image_array = img_to_array(image)\n",
    "            images.append(image_array)\n",
    "            labels.append(label)\n",
    "    return np.array(images), np.array(labels)"
   ]
  },
  {
   "cell_type": "code",
   "execution_count": 16,
   "metadata": {},
   "outputs": [
    {
     "data": {
      "text/plain": [
       "array([[[[156., 114., 102.],\n",
       "         [166., 119., 109.],\n",
       "         [164., 122., 110.],\n",
       "         ...,\n",
       "         [ 23.,  22.,   1.],\n",
       "         [ 26.,  25.,   4.],\n",
       "         [ 28.,  27.,   6.]],\n",
       "\n",
       "        [[154., 111., 102.],\n",
       "         [166., 122., 113.],\n",
       "         [168., 125., 116.],\n",
       "         ...,\n",
       "         [ 82.,  80.,  83.],\n",
       "         [ 85.,  83.,  84.],\n",
       "         [ 88.,  86.,  87.]],\n",
       "\n",
       "        [[157., 114., 107.],\n",
       "         [169., 124., 118.],\n",
       "         [172., 129., 122.],\n",
       "         ...,\n",
       "         [ 88.,  88.,  88.],\n",
       "         [ 93.,  93.,  93.],\n",
       "         [ 91.,  91.,  91.]],\n",
       "\n",
       "        ...,\n",
       "\n",
       "        [[ 52.,  37.,  30.],\n",
       "         [ 76.,  47.,  33.],\n",
       "         [ 81.,  45.,  29.],\n",
       "         ...,\n",
       "         [128., 130., 168.],\n",
       "         [118., 123., 161.],\n",
       "         [104., 119., 142.]],\n",
       "\n",
       "        [[ 32.,  19.,  10.],\n",
       "         [ 48.,  20.,   8.],\n",
       "         [ 62.,  29.,  14.],\n",
       "         ...,\n",
       "         [120., 128., 174.],\n",
       "         [117., 122., 164.],\n",
       "         [108., 113., 151.]],\n",
       "\n",
       "        [[  3.,   3.,   5.],\n",
       "         [  7.,   1.,   1.],\n",
       "         [ 13.,   5.,   3.],\n",
       "         ...,\n",
       "         [ 23.,  18.,   0.],\n",
       "         [ 31.,  21.,   0.],\n",
       "         [ 20.,  18.,   0.]]],\n",
       "\n",
       "\n",
       "       [[[195., 167., 119.],\n",
       "         [181., 163., 117.],\n",
       "         [193., 171., 130.],\n",
       "         ...,\n",
       "         [153., 142., 114.],\n",
       "         [150., 140., 113.],\n",
       "         [156., 146., 119.]],\n",
       "\n",
       "        [[197., 175., 126.],\n",
       "         [195., 177., 129.],\n",
       "         [198., 177., 134.],\n",
       "         ...,\n",
       "         [152., 142., 115.],\n",
       "         [152., 140., 114.],\n",
       "         [152., 140., 114.]],\n",
       "\n",
       "        [[197., 180., 137.],\n",
       "         [196., 179., 136.],\n",
       "         [198., 179., 139.],\n",
       "         ...,\n",
       "         [147., 137., 112.],\n",
       "         [147., 133., 107.],\n",
       "         [151., 140., 112.]],\n",
       "\n",
       "        ...,\n",
       "\n",
       "        [[159., 202., 211.],\n",
       "         [159., 202., 211.],\n",
       "         [160., 203., 212.],\n",
       "         ...,\n",
       "         [ 33., 123., 124.],\n",
       "         [ 28., 167., 170.],\n",
       "         [  2., 160., 161.]],\n",
       "\n",
       "        [[169., 209., 217.],\n",
       "         [158., 201., 210.],\n",
       "         [158., 202., 211.],\n",
       "         ...,\n",
       "         [  4.,  82.,  92.],\n",
       "         [ 10., 158., 158.],\n",
       "         [  2., 160., 161.]],\n",
       "\n",
       "        [[179., 216., 225.],\n",
       "         [165., 208., 217.],\n",
       "         [156., 203., 211.],\n",
       "         ...,\n",
       "         [  3., 161., 170.],\n",
       "         [  6., 162., 161.],\n",
       "         [  6., 161., 163.]]],\n",
       "\n",
       "\n",
       "       [[[  1.,   1.,   1.],\n",
       "         [  0.,   0.,   2.],\n",
       "         [  0.,   0.,   4.],\n",
       "         ...,\n",
       "         [  2.,   0.,   1.],\n",
       "         [  2.,   0.,   1.],\n",
       "         [  0.,   0.,   0.]],\n",
       "\n",
       "        [[  0.,   0.,   0.],\n",
       "         [  3.,   1.,   2.],\n",
       "         [  3.,   0.,   0.],\n",
       "         ...,\n",
       "         [  1.,   2.,   0.],\n",
       "         [  0.,   2.,   0.],\n",
       "         [  0.,   0.,   0.]],\n",
       "\n",
       "        [[  0.,   0.,   2.],\n",
       "         [  3.,   0.,   0.],\n",
       "         [ 32.,  22.,  13.],\n",
       "         ...,\n",
       "         [ 36.,  12.,  10.],\n",
       "         [  9.,   0.,   0.],\n",
       "         [  0.,   0.,   0.]],\n",
       "\n",
       "        ...,\n",
       "\n",
       "        [[  0.,   0.,   0.],\n",
       "         [  7.,   0.,   0.],\n",
       "         [131., 107.,  81.],\n",
       "         ...,\n",
       "         [ 65., 124., 106.],\n",
       "         [  0.,  13.,   7.],\n",
       "         [  0.,   0.,   0.]],\n",
       "\n",
       "        [[  0.,   3.,   0.],\n",
       "         [  1.,   1.,   1.],\n",
       "         [  4.,   0.,   0.],\n",
       "         ...,\n",
       "         [  0.,   6.,   1.],\n",
       "         [  0.,   2.,   0.],\n",
       "         [  0.,   0.,   0.]],\n",
       "\n",
       "        [[  0.,   0.,   0.],\n",
       "         [  0.,   0.,   2.],\n",
       "         [  0.,   0.,   2.],\n",
       "         ...,\n",
       "         [  1.,   0.,   0.],\n",
       "         [  0.,   1.,   0.],\n",
       "         [  0.,   0.,   0.]]],\n",
       "\n",
       "\n",
       "       ...,\n",
       "\n",
       "\n",
       "       [[[ 57.,  32.,  25.],\n",
       "         [ 57.,  32.,  25.],\n",
       "         [ 55.,  30.,  23.],\n",
       "         ...,\n",
       "         [174., 147., 128.],\n",
       "         [174., 147., 128.],\n",
       "         [172., 145., 126.]],\n",
       "\n",
       "        [[ 56.,  31.,  24.],\n",
       "         [ 56.,  31.,  24.],\n",
       "         [ 56.,  31.,  24.],\n",
       "         ...,\n",
       "         [173., 146., 127.],\n",
       "         [173., 146., 127.],\n",
       "         [172., 145., 126.]],\n",
       "\n",
       "        [[ 57.,  33.,  23.],\n",
       "         [ 57.,  33.,  23.],\n",
       "         [ 57.,  33.,  23.],\n",
       "         ...,\n",
       "         [174., 147., 128.],\n",
       "         [173., 146., 127.],\n",
       "         [172., 145., 126.]],\n",
       "\n",
       "        ...,\n",
       "\n",
       "        [[ 63.,  68.,  87.],\n",
       "         [ 63.,  68.,  87.],\n",
       "         [ 61.,  66.,  85.],\n",
       "         ...,\n",
       "         [  7.,   5.,  18.],\n",
       "         [  5.,   5.,  17.],\n",
       "         [  6.,   6.,  18.]],\n",
       "\n",
       "        [[ 64.,  69.,  88.],\n",
       "         [ 63.,  68.,  87.],\n",
       "         [ 61.,  66.,  85.],\n",
       "         ...,\n",
       "         [  7.,   5.,  19.],\n",
       "         [  4.,   3.,  17.],\n",
       "         [  5.,   4.,  18.]],\n",
       "\n",
       "        [[ 64.,  69.,  88.],\n",
       "         [ 63.,  68.,  87.],\n",
       "         [ 62.,  67.,  86.],\n",
       "         ...,\n",
       "         [ 10.,   8.,  22.],\n",
       "         [  7.,   6.,  20.],\n",
       "         [  7.,   6.,  20.]]],\n",
       "\n",
       "\n",
       "       [[[158., 129.,  99.],\n",
       "         [159., 130., 100.],\n",
       "         [159., 130., 100.],\n",
       "         ...,\n",
       "         [182., 143., 126.],\n",
       "         [182., 143., 126.],\n",
       "         [180., 141., 124.]],\n",
       "\n",
       "        [[159., 130., 100.],\n",
       "         [158., 129.,  99.],\n",
       "         [159., 130., 100.],\n",
       "         ...,\n",
       "         [182., 143., 126.],\n",
       "         [181., 142., 125.],\n",
       "         [181., 142., 125.]],\n",
       "\n",
       "        [[158., 129.,  99.],\n",
       "         [159., 130., 100.],\n",
       "         [159., 130., 100.],\n",
       "         ...,\n",
       "         [182., 143., 126.],\n",
       "         [181., 142., 125.],\n",
       "         [181., 142., 125.]],\n",
       "\n",
       "        ...,\n",
       "\n",
       "        [[ 64.,  46.,  34.],\n",
       "         [ 66.,  46.,  35.],\n",
       "         [ 66.,  46.,  35.],\n",
       "         ...,\n",
       "         [143., 119.,  91.],\n",
       "         [143., 119.,  91.],\n",
       "         [141., 117.,  89.]],\n",
       "\n",
       "        [[ 63.,  45.,  35.],\n",
       "         [ 64.,  44.,  35.],\n",
       "         [ 66.,  46.,  37.],\n",
       "         ...,\n",
       "         [142., 118.,  92.],\n",
       "         [142., 118.,  92.],\n",
       "         [139., 115.,  89.]],\n",
       "\n",
       "        [[ 64.,  46.,  36.],\n",
       "         [ 64.,  44.,  35.],\n",
       "         [ 65.,  45.,  36.],\n",
       "         ...,\n",
       "         [141., 117.,  91.],\n",
       "         [141., 117.,  91.],\n",
       "         [141., 117.,  91.]]],\n",
       "\n",
       "\n",
       "       [[[ 82.,  49.,  34.],\n",
       "         [ 81.,  48.,  33.],\n",
       "         [ 81.,  48.,  33.],\n",
       "         ...,\n",
       "         [141.,  97.,  86.],\n",
       "         [147., 103.,  92.],\n",
       "         [149., 105.,  94.]],\n",
       "\n",
       "        [[ 82.,  49.,  34.],\n",
       "         [ 82.,  49.,  34.],\n",
       "         [ 82.,  49.,  34.],\n",
       "         ...,\n",
       "         [146., 102.,  91.],\n",
       "         [147., 103.,  92.],\n",
       "         [147., 103.,  92.]],\n",
       "\n",
       "        [[ 82.,  49.,  34.],\n",
       "         [ 82.,  49.,  34.],\n",
       "         [ 83.,  50.,  35.],\n",
       "         ...,\n",
       "         [149., 105.,  94.],\n",
       "         [145., 101.,  90.],\n",
       "         [144., 100.,  89.]],\n",
       "\n",
       "        ...,\n",
       "\n",
       "        [[ 45., 107., 104.],\n",
       "         [ 50., 112., 109.],\n",
       "         [ 52., 114., 111.],\n",
       "         ...,\n",
       "         [ 72.,  51.,  50.],\n",
       "         [ 74.,  53.,  52.],\n",
       "         [ 75.,  54.,  53.]],\n",
       "\n",
       "        [[ 46., 108., 105.],\n",
       "         [ 50., 112., 109.],\n",
       "         [ 53., 115., 112.],\n",
       "         ...,\n",
       "         [ 74.,  53.,  52.],\n",
       "         [ 73.,  52.,  51.],\n",
       "         [ 73.,  52.,  51.]],\n",
       "\n",
       "        [[ 50., 112., 109.],\n",
       "         [ 50., 112., 109.],\n",
       "         [ 50., 112., 109.],\n",
       "         ...,\n",
       "         [ 69.,  48.,  47.],\n",
       "         [ 71.,  50.,  49.],\n",
       "         [ 73.,  52.,  51.]]]], dtype=float32)"
      ]
     },
     "execution_count": 16,
     "metadata": {},
     "output_type": "execute_result"
    }
   ],
   "source": [
    "folder_path = PATH_super_resolution_images\n",
    "images, labels = load_data(folder_path)\n",
    "images"
   ]
  },
  {
   "cell_type": "code",
   "execution_count": 17,
   "metadata": {},
   "outputs": [],
   "source": [
    "X_train, X_test, y_train, y_test = train_test_split(images, labels, test_size=0.2, random_state=42, shuffle=True)\n"
   ]
  },
  {
   "cell_type": "code",
   "execution_count": 18,
   "metadata": {},
   "outputs": [],
   "source": [
    "# Define and compile the model\n",
    "base_model = ResNet50(weights='imagenet', include_top=False, input_shape=(224, 224, 3))\n",
    "for layer in base_model.layers:\n",
    "    layer.trainable = False"
   ]
  },
  {
   "cell_type": "code",
   "execution_count": 19,
   "metadata": {},
   "outputs": [],
   "source": [
    "# Add your own classification layers on top of the ResNet-50 base model\n",
    "x = base_model.output\n",
    "x = layers.GlobalAveragePooling2D()(x)\n",
    "x = layers.Dense(1024, activation='relu')(x)\n",
    "predictions = layers.Dense(1, activation='sigmoid')(x)\n",
    "\n",
    "model_resnet50 = Model(inputs=base_model.input, outputs=predictions)\n",
    "\n"
   ]
  },
  {
   "cell_type": "code",
   "execution_count": 20,
   "metadata": {},
   "outputs": [],
   "source": [
    "model_resnet50.compile(loss='binary_crossentropy',metrics=[\n",
    "    'accuracy',\n",
    "    tf.keras.metrics.Precision(),\n",
    "    tf.keras.metrics.Recall()],\n",
    "    optimizer='adam')\n"
   ]
  },
  {
   "cell_type": "code",
   "execution_count": 21,
   "metadata": {},
   "outputs": [],
   "source": [
    "early_stopping = EarlyStopping(monitor='val_loss', patience=10, restore_best_weights=True)\n",
    "reduce_lr = ReduceLROnPlateau(monitor='val_loss', factor=0.1, patience=5, min_lr=0.00001)\n",
    "checkpoint_filepath = '/kaggle/working/best_model_resnet.keras'\n",
    "checkpoint = ModelCheckpoint(\n",
    "    checkpoint_filepath,\n",
    "    monitor='val_accuracy',  # Save the model based on validation accuracy\n",
    "    save_best_only=True,      # Only save the best model\n",
    "    mode='max',               # Save the model when the monitored quantity is maximized\n",
    "    verbose=1\n",
    ")\n"
   ]
  },
  {
   "cell_type": "code",
   "execution_count": 22,
   "metadata": {},
   "outputs": [
    {
     "name": "stdout",
     "output_type": "stream",
     "text": [
      "Epoch 1/10\n",
      "20/20 [==============================] - ETA: 0s - loss: 1.6268 - accuracy: 0.6019 - precision: 0.5971 - recall: 0.5497\n",
      "Epoch 1: val_accuracy improved from -inf to 0.75000, saving model to /kaggle/working\\best_model_resnet.keras\n",
      "20/20 [==============================] - 6s 189ms/step - loss: 1.6268 - accuracy: 0.6019 - precision: 0.5971 - recall: 0.5497 - val_loss: 0.5207 - val_accuracy: 0.7500 - val_precision: 0.7879 - val_recall: 0.6753 - lr: 0.0010\n",
      "Epoch 2/10\n",
      "20/20 [==============================] - ETA: 0s - loss: 0.4955 - accuracy: 0.7480 - precision: 0.7526 - recall: 0.7152\n",
      "Epoch 2: val_accuracy did not improve from 0.75000\n",
      "20/20 [==============================] - 2s 122ms/step - loss: 0.4955 - accuracy: 0.7480 - precision: 0.7526 - recall: 0.7152 - val_loss: 0.5954 - val_accuracy: 0.6923 - val_precision: 0.6330 - val_recall: 0.8961 - lr: 0.0010\n",
      "Epoch 3/10\n",
      "20/20 [==============================] - ETA: 0s - loss: 0.4158 - accuracy: 0.7881 - precision: 0.8080 - recall: 0.7384\n",
      "Epoch 3: val_accuracy did not improve from 0.75000\n",
      "20/20 [==============================] - 2s 122ms/step - loss: 0.4158 - accuracy: 0.7881 - precision: 0.8080 - recall: 0.7384 - val_loss: 0.5339 - val_accuracy: 0.7308 - val_precision: 0.6923 - val_recall: 0.8182 - lr: 0.0010\n",
      "Epoch 4/10\n",
      "20/20 [==============================] - ETA: 0s - loss: 0.3769 - accuracy: 0.8138 - precision: 0.8252 - recall: 0.7815\n",
      "Epoch 4: val_accuracy did not improve from 0.75000\n",
      "20/20 [==============================] - 2s 121ms/step - loss: 0.3769 - accuracy: 0.8138 - precision: 0.8252 - recall: 0.7815 - val_loss: 0.5480 - val_accuracy: 0.7244 - val_precision: 0.6932 - val_recall: 0.7922 - lr: 0.0010\n",
      "Epoch 5/10\n",
      "20/20 [==============================] - ETA: 0s - loss: 0.3586 - accuracy: 0.8283 - precision: 0.8545 - recall: 0.7781\n",
      "Epoch 5: val_accuracy did not improve from 0.75000\n",
      "20/20 [==============================] - 2s 122ms/step - loss: 0.3586 - accuracy: 0.8283 - precision: 0.8545 - recall: 0.7781 - val_loss: 0.5912 - val_accuracy: 0.7051 - val_precision: 0.6667 - val_recall: 0.8052 - lr: 0.0010\n",
      "Epoch 6/10\n",
      "20/20 [==============================] - ETA: 0s - loss: 0.3358 - accuracy: 0.8234 - precision: 0.8453 - recall: 0.7781\n",
      "Epoch 6: val_accuracy did not improve from 0.75000\n",
      "20/20 [==============================] - 2s 121ms/step - loss: 0.3358 - accuracy: 0.8234 - precision: 0.8453 - recall: 0.7781 - val_loss: 0.6405 - val_accuracy: 0.6859 - val_precision: 0.6458 - val_recall: 0.8052 - lr: 0.0010\n",
      "Epoch 7/10\n",
      "20/20 [==============================] - ETA: 0s - loss: 0.3005 - accuracy: 0.8475 - precision: 0.8307 - recall: 0.8609\n",
      "Epoch 7: val_accuracy did not improve from 0.75000\n",
      "20/20 [==============================] - 2s 122ms/step - loss: 0.3005 - accuracy: 0.8475 - precision: 0.8307 - recall: 0.8609 - val_loss: 0.5724 - val_accuracy: 0.6667 - val_precision: 0.6582 - val_recall: 0.6753 - lr: 1.0000e-04\n",
      "Epoch 8/10\n",
      "19/20 [===========================>..] - ETA: 0s - loss: 0.2843 - accuracy: 0.8470 - precision: 0.8769 - recall: 0.7966\n",
      "Epoch 8: val_accuracy did not improve from 0.75000\n",
      "20/20 [==============================] - 2s 122ms/step - loss: 0.2846 - accuracy: 0.8459 - precision: 0.8732 - recall: 0.7980 - val_loss: 0.6011 - val_accuracy: 0.6923 - val_precision: 0.6706 - val_recall: 0.7403 - lr: 1.0000e-04\n",
      "Epoch 9/10\n",
      "20/20 [==============================] - ETA: 0s - loss: 0.2798 - accuracy: 0.8539 - precision: 0.8809 - recall: 0.8079\n",
      "Epoch 9: val_accuracy did not improve from 0.75000\n",
      "20/20 [==============================] - 2s 121ms/step - loss: 0.2798 - accuracy: 0.8539 - precision: 0.8809 - recall: 0.8079 - val_loss: 0.6024 - val_accuracy: 0.6859 - val_precision: 0.6707 - val_recall: 0.7143 - lr: 1.0000e-04\n",
      "Epoch 10/10\n",
      "20/20 [==============================] - ETA: 0s - loss: 0.2779 - accuracy: 0.8555 - precision: 0.8786 - recall: 0.8146\n",
      "Epoch 10: val_accuracy did not improve from 0.75000\n",
      "20/20 [==============================] - 2s 121ms/step - loss: 0.2779 - accuracy: 0.8555 - precision: 0.8786 - recall: 0.8146 - val_loss: 0.6031 - val_accuracy: 0.6859 - val_precision: 0.6707 - val_recall: 0.7143 - lr: 1.0000e-04\n"
     ]
    }
   ],
   "source": [
    "\n",
    "# Training model\n",
    "history = model_resnet50.fit(\n",
    "    x= X_train,\n",
    "    y= y_train,\n",
    "    epochs=10,\n",
    "    validation_data=(X_test, y_test),\n",
    "    callbacks=[early_stopping, reduce_lr,checkpoint]\n",
    ")"
   ]
  },
  {
   "cell_type": "code",
   "execution_count": 23,
   "metadata": {},
   "outputs": [
    {
     "data": {
      "image/png": "[encoded data removed]",
      "text/plain": [
       "<Figure size 640x480 with 1 Axes>"
      ]
     },
     "metadata": {},
     "output_type": "display_data"
    },
    {
     "data": {
      "image/png": "[encoded data removed]",
      "text/plain": [
       "<Figure size 640x480 with 1 Axes>"
      ]
     },
     "metadata": {},
     "output_type": "display_data"
    }
   ],
   "source": [
    "\n",
    "#  accuracy vsloss plot\n",
    "plt.plot(history.history['accuracy'], label='accuracy')\n",
    "plt.plot(history.history['val_accuracy'], label='val_accuracy')\n",
    "plt.xlabel('Epoch')\n",
    "plt.ylabel('Accuracy')\n",
    "plt.legend(loc='lower right')\n",
    "plt.show()\n",
    "\n",
    "\n",
    "plt.plot(history.history['loss'], label='loss')\n",
    "plt.plot(history.history['val_loss'], label='val_loss')\n",
    "plt.xlabel('Epoch')\n",
    "plt.ylabel('Loss')\n",
    "plt.legend(loc='upper right')\n",
    "plt.show()\n",
    "\n"
   ]
  },
  {
   "cell_type": "code",
   "execution_count": null,
   "metadata": {},
   "outputs": [],
   "source": [
    "\n"
   ]
  }
 ],
 "metadata": {
  "kernelspec": {
   "display_name": "py310",
   "language": "python",
   "name": "python3"
  },
  "language_info": {
   "codemirror_mode": {
    "name": "ipython",
    "version": 3
   },
   "file_extension": ".py",
   "mimetype": "text/x-python",
   "name": "python",
   "nbconvert_exporter": "python",
   "pygments_lexer": "ipython3",
   "version": "3.10.14"
  }
 },
 "nbformat": 4,
 "nbformat_minor": 2
}
